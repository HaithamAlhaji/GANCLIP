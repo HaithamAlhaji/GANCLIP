{
 "cells": [
  {
   "cell_type": "code",
   "execution_count": 1,
   "metadata": {},
   "outputs": [],
   "source": [
    "import torch\n",
    "import os\n",
    "from PIL import Image\n",
    "import clip\n",
    "import os.path as osp\n",
    "import os, sys\n",
    "import torchvision.utils as vutils\n",
    "sys.path.insert(0, '../')\n",
    "\n",
    "from lib.utils import load_model_weights,mkdir_p\n",
    "from models.GALIP import NetG, CLIP_TXT_ENCODER"
   ]
  },
  {
   "cell_type": "code",
   "execution_count": 2,
   "metadata": {},
   "outputs": [],
   "source": [
    "device = 'cuda:0' # 'cpu' # 'cuda:0'\n",
    "CLIP_text = \"ViT-B/32\"\n",
    "clip_model, preprocess = clip.load(\"ViT-B/32\", device=device)\n",
    "clip_model = clip_model.eval()"
   ]
  },
  {
   "cell_type": "code",
   "execution_count": 3,
   "metadata": {},
   "outputs": [],
   "source": [
    "text_encoder = CLIP_TXT_ENCODER(clip_model).to(device)\n",
    "netG = NetG(64, 100, 512, 256, 3, False, clip_model).to(device)\n"
   ]
  },
  {
   "cell_type": "code",
   "execution_count": 4,
   "metadata": {},
   "outputs": [
    {
     "name": "stdout",
     "output_type": "stream",
     "text": [
      " Volume in drive C has no label.\n",
      " Volume Serial Number is 50B6-7F20\n",
      "\n",
      " Directory of c:\\Users\\PC\\Desktop\\GALIP\\code\\src\n",
      "\n",
      "2024-07-18  04:03 PM    <DIR>          .\n",
      "2024-07-18  03:48 PM    <DIR>          ..\n",
      "2024-07-15  12:33 PM                 0 readme.txt\n",
      "2024-07-16  08:43 PM             3,974 sample.ipynb\n",
      "2024-07-18  03:48 PM    <DIR>          samples\n",
      "2024-07-15  12:33 PM             5,162 test.py\n",
      "2024-07-19  06:47 PM             8,727 train.py\n",
      "               4 File(s)         17,863 bytes\n",
      "               3 Dir(s)  84,267,081,728 bytes free\n"
     ]
    }
   ],
   "source": [
    "!dir"
   ]
  },
  {
   "cell_type": "code",
   "execution_count": 7,
   "metadata": {},
   "outputs": [],
   "source": [
    "path = 'C:\\\\Users\\\\PC\\\\Desktop\\\\GALIP\\\\code\\\\saved_models\\\\pre_trained\\\\pre_coco.pth'\n",
    "checkpoint = torch.load(path, map_location=torch.device('cuda:0'))\n",
    "netG = load_model_weights(netG, checkpoint['model']['netG'], multi_gpus=False)"
   ]
  },
  {
   "cell_type": "code",
   "execution_count": 8,
   "metadata": {},
   "outputs": [],
   "source": [
    "batch_size = 8\n",
    "noise = torch.randn((batch_size, 100)).to(device)"
   ]
  },
  {
   "cell_type": "code",
   "execution_count": 19,
   "metadata": {},
   "outputs": [],
   "source": []
  },
  {
   "cell_type": "code",
   "execution_count": 9,
   "metadata": {},
   "outputs": [],
   "source": [
    "mkdir_p('./samples')"
   ]
  },
  {
   "cell_type": "code",
   "execution_count": 11,
   "metadata": {},
   "outputs": [],
   "source": [
    "captions = ['cat riding a bike']\n",
    "# generate from text\n",
    "with torch.no_grad():\n",
    "    for i in range(len(captions)):\n",
    "        caption = captions[i]\n",
    "        tokenized_text = clip.tokenize([caption]).to(device)\n",
    "        sent_emb, word_emb = text_encoder(tokenized_text)\n",
    "        sent_emb = sent_emb.repeat(batch_size,1)\n",
    "        fake_imgs = netG(noise,sent_emb,eval=True).float()\n",
    "        name = f'{captions[i].replace(\" \", \"-\")}'\n",
    "        vutils.save_image(fake_imgs.data, './samples/%s.png'%(name), nrow=8, value_range=(-1, 1), normalize=True)"
   ]
  },
  {
   "cell_type": "code",
   "execution_count": null,
   "metadata": {},
   "outputs": [],
   "source": []
  }
 ],
 "metadata": {
  "kernelspec": {
   "display_name": "dfgan",
   "language": "python",
   "name": "python3"
  },
  "language_info": {
   "codemirror_mode": {
    "name": "ipython",
    "version": 3
   },
   "file_extension": ".py",
   "mimetype": "text/x-python",
   "name": "python",
   "nbconvert_exporter": "python",
   "pygments_lexer": "ipython3",
   "version": "3.9.19"
  },
  "orig_nbformat": 4,
  "vscode": {
   "interpreter": {
    "hash": "849434eb86c3997df801551b732438d01b491303b69c29efcf332721ce6d8430"
   }
  }
 },
 "nbformat": 4,
 "nbformat_minor": 2
}
